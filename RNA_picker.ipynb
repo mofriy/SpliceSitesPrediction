{
 "cells": [
  {
   "cell_type": "code",
   "execution_count": 2,
   "id": "42b8b2b3-858b-40c2-a036-6eec630418e6",
   "metadata": {},
   "outputs": [],
   "source": [
    "out = open(\"topRNAs.fna\", \"w\")\n",
    "with open(\"GCF_000001405.40_GRCh38.p14_rna.fna\") as f:\n",
    "    chosen_rnas = 0\n",
    "    names = []\n",
    "    writing = True\n",
    "    while chosen_rnas < 20:\n",
    "        line = f.readline()\n",
    "        if line[0] == \">\":\n",
    "            name = line.split()[0]\n",
    "            if name not in names:\n",
    "                chosen_rnas += 1\n",
    "                writing = True\n",
    "            else:\n",
    "                writing = False\n",
    "        if writing:\n",
    "            out.write(line)\n",
    "\n",
    "out.flush()\n",
    "out.close()"
   ]
  },
  {
   "cell_type": "code",
   "execution_count": null,
   "id": "a1d69be5-82f2-45f1-ae4f-b15733af0610",
   "metadata": {},
   "outputs": [],
   "source": []
  }
 ],
 "metadata": {
  "kernelspec": {
   "display_name": "Python 3 (ipykernel)",
   "language": "python",
   "name": "python3"
  },
  "language_info": {
   "codemirror_mode": {
    "name": "ipython",
    "version": 3
   },
   "file_extension": ".py",
   "mimetype": "text/x-python",
   "name": "python",
   "nbconvert_exporter": "python",
   "pygments_lexer": "ipython3",
   "version": "3.10.8"
  }
 },
 "nbformat": 4,
 "nbformat_minor": 5
}
